{
 "cells": [
  {
   "cell_type": "markdown",
   "metadata": {},
   "source": [
    "# Neural network from Scratch\n",
    "\n",
    "In this notebook, I build the neural network in pure Python and numpy library. It is a one-hidden-layer network with 3 neurons, trained for 1500 iterations. "
   ]
  },
  {
   "cell_type": "code",
   "execution_count": 89,
   "metadata": {},
   "outputs": [
    {
     "name": "stdout",
     "output_type": "stream",
     "text": [
      "[[0.00668569]\n",
      " [0.97393156]\n",
      " [0.97419638]\n",
      " [0.03085522]]\n"
     ]
    }
   ],
   "source": [
    "\"\"\"My own neural network from scratch.\"\"\"\n",
    "\n",
    "import numpy as np\n",
    "\n",
    "\n",
    "def sig(s):\n",
    "    \"\"\"Sigmoid function.\"\"\"\n",
    "    return 1 / (1 + np.exp(-s))\n",
    "\n",
    "\n",
    "def sig_inv(s):\n",
    "    \"\"\"Sigmoid derivative function.\"\"\"\n",
    "    return sig(s) * (1 - sig(s))\n",
    "\n",
    "\n",
    "class NeuralNetwork:\n",
    "    \"\"\"Neural Network class.\"\"\"\n",
    "\n",
    "    def __init__(self, x, y):\n",
    "        \"\"\"Constructor.\"\"\"\n",
    "        self.x = x\n",
    "        self.y = y\n",
    "        self.w1 = np.random.rand(self.x.shape[1], 3)\n",
    "        self.w2 = np.random.rand(3, 1)\n",
    "\n",
    "        self.alpha = 3\n",
    "        self.loss = []\n",
    "\n",
    "    def forward(self):\n",
    "        \"\"\"Feed Forward.\"\"\"\n",
    "        self.s1 = self.x.dot(self.w1)\n",
    "        self.z1 = sig(self.s1)\n",
    "        self.s2 = self.z1.dot(self.w2)\n",
    "        self.z2 = sig(self.s2)\n",
    "\n",
    "        self.loss.append(1 / 2 * ((self.z2 - self.y) ** 2).sum())\n",
    "\n",
    "    def backward(self):\n",
    "        \"\"\"Backward Propagation.\"\"\"\n",
    "        d_w1 = np.dot(\n",
    "            self.x.T,\n",
    "            np.dot(\n",
    "                (self.z2 - self.y) * sig_inv(self.s2),\n",
    "                self.w2.T\n",
    "            ) * sig_inv(self.s1)\n",
    "        )\n",
    "\n",
    "        d_w2 = np.dot(\n",
    "            self.z1.T,\n",
    "            (self.z2 - self.y) * sig_inv(self.s2)\n",
    "        )\n",
    "\n",
    "        self.w1 -= self.alpha * d_w1\n",
    "        self.w2 -= self.alpha * d_w2\n",
    "\n",
    "\n",
    "if __name__ == \"__main__\":\n",
    "    X = np.array([[1, 0, 0, 1],\n",
    "                  [1, 0, 1, 1],\n",
    "                  [1, 1, 0, 1],\n",
    "                  [1, 1, 1, 1]])\n",
    "    y = np.array([[0],\n",
    "                  [1],\n",
    "                  [1],\n",
    "                  [0]])\n",
    "    nn = NeuralNetwork(X, y)\n",
    "\n",
    "    for i in range(1500):\n",
    "        nn.forward()\n",
    "        nn.backward()\n",
    "\n",
    "    print(nn.z2)\n"
   ]
  },
  {
   "cell_type": "markdown",
   "metadata": {},
   "source": [
    "## Plotting Loss Function"
   ]
  },
  {
   "cell_type": "code",
   "execution_count": 90,
   "metadata": {},
   "outputs": [],
   "source": [
    "import matplotlib.pyplot as plt"
   ]
  },
  {
   "cell_type": "code",
   "execution_count": 91,
   "metadata": {},
   "outputs": [
    {
     "data": {
      "image/png": "[encoded data removed]",
      "text/plain": [
       "<Figure size 432x288 with 1 Axes>"
      ]
     },
     "metadata": {
      "needs_background": "light"
     },
     "output_type": "display_data"
    }
   ],
   "source": [
    "plt.title('Loss vs iterations')\n",
    "plt.xlabel('Iteration')\n",
    "plt.ylabel('Loss')\n",
    "plt.plot(nn.loss);"
   ]
  }
 ],
 "metadata": {
  "kernelspec": {
   "display_name": "Python (myenv)",
   "language": "python",
   "name": "lab_env"
  },
  "language_info": {
   "codemirror_mode": {
    "name": "ipython",
    "version": 3
   },
   "file_extension": ".py",
   "mimetype": "text/x-python",
   "name": "python",
   "nbconvert_exporter": "python",
   "pygments_lexer": "ipython3",
   "version": "3.6.8"
  }
 },
 "nbformat": 4,
 "nbformat_minor": 2
}
